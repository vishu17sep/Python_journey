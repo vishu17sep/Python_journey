{
 "cells": [
  {
   "cell_type": "markdown",
   "metadata": {
    "collapsed": true
   },
   "source": [
    "# Overview of Green Mission\n",
    "\n",
    "It seems like the email we obtained from the previous mission:\n",
    "\n",
    "    info@thegoldbugs.com\n",
    "    \n",
    "has been set to an auto-reply function that will reveal more information.\n",
    "\n",
    "Send an email to the address and use Python to see what the reply is.\n",
    "\n",
    "**Note: We expect that this email will probably send some sort of auto-reply with a reference link in HTML. Because of this, the content_type() may be 'text/html' instead of 'test/plain'. If you do get some text mixed with HTML code, try pasting the HTML code into a markdown cell in the jupyter notebook, it should be able to format the message correctly.**\n",
    "\n",
    "Best of luck agent!"
   ]
  },
  {
   "cell_type": "code",
   "execution_count": 2,
   "metadata": {},
   "outputs": [],
   "source": [
    "import smtplib"
   ]
  },
  {
   "cell_type": "code",
   "execution_count": 3,
   "metadata": {},
   "outputs": [],
   "source": [
    "smtp_ob = smtplib.SMTP(\"smtp.gmail.com\",\"587\")"
   ]
  },
  {
   "cell_type": "code",
   "execution_count": 4,
   "metadata": {},
   "outputs": [
    {
     "data": {
      "text/plain": [
       "(250,\n",
       " b'smtp.gmail.com at your service, [43.224.3.168]\\nSIZE 35882577\\n8BITMIME\\nSTARTTLS\\nENHANCEDSTATUSCODES\\nPIPELINING\\nCHUNKING\\nSMTPUTF8')"
      ]
     },
     "execution_count": 4,
     "metadata": {},
     "output_type": "execute_result"
    }
   ],
   "source": [
    "smtp_ob.ehlo()"
   ]
  },
  {
   "cell_type": "code",
   "execution_count": 5,
   "metadata": {},
   "outputs": [
    {
     "data": {
      "text/plain": [
       "(220, b'2.0.0 Ready to start TLS')"
      ]
     },
     "execution_count": 5,
     "metadata": {},
     "output_type": "execute_result"
    }
   ],
   "source": [
    "smtp_ob.starttls()"
   ]
  },
  {
   "cell_type": "code",
   "execution_count": 6,
   "metadata": {},
   "outputs": [
    {
     "name": "stdout",
     "output_type": "stream",
     "text": [
      "Enter email········\n",
      "Enter password········\n"
     ]
    }
   ],
   "source": [
    "import getpass\n",
    "email = getpass.getpass(\"Enter email\")\n",
    "pword = getpass.getpass(\"Enter password\")    "
   ]
  },
  {
   "cell_type": "code",
   "execution_count": 7,
   "metadata": {},
   "outputs": [
    {
     "data": {
      "text/plain": [
       "(235, b'2.7.0 Accepted')"
      ]
     },
     "execution_count": 7,
     "metadata": {},
     "output_type": "execute_result"
    }
   ],
   "source": [
    "smtp_ob.login(email,pword)"
   ]
  },
  {
   "cell_type": "code",
   "execution_count": 8,
   "metadata": {},
   "outputs": [
    {
     "data": {
      "text/plain": [
       "{}"
      ]
     },
     "execution_count": 8,
     "metadata": {},
     "output_type": "execute_result"
    }
   ],
   "source": [
    "subject = \"HACK\"\n",
    "body = \"Send the details\"\n",
    "message = \"Subject: \" + subject + \"\\n\" + body\n",
    "smtp_ob.sendmail(email,\"info@thegoldbugs.com\",message)"
   ]
  },
  {
   "cell_type": "code",
   "execution_count": 9,
   "metadata": {},
   "outputs": [
    {
     "data": {
      "text/plain": [
       "(221, b'2.0.0 closing connection q1sm73014782pfn.178 - gsmtp')"
      ]
     },
     "execution_count": 9,
     "metadata": {},
     "output_type": "execute_result"
    }
   ],
   "source": [
    "smtp_ob.quit()"
   ]
  },
  {
   "cell_type": "code",
   "execution_count": 10,
   "metadata": {},
   "outputs": [],
   "source": [
    "import imaplib"
   ]
  },
  {
   "cell_type": "code",
   "execution_count": 18,
   "metadata": {},
   "outputs": [],
   "source": [
    "m = imaplib.IMAP4_SSL(\"imap.gmail.com\")\n",
    "import getpass"
   ]
  },
  {
   "cell_type": "code",
   "execution_count": 19,
   "metadata": {},
   "outputs": [
    {
     "name": "stdout",
     "output_type": "stream",
     "text": [
      "Enter email········\n",
      "Enter password········\n"
     ]
    }
   ],
   "source": [
    "email = getpass.getpass(\"Enter email\")\n",
    "pword = getpass.getpass(\"Enter password\")"
   ]
  },
  {
   "cell_type": "code",
   "execution_count": 20,
   "metadata": {},
   "outputs": [
    {
     "data": {
      "text/plain": [
       "('OK', [b'vishu17sep@gmail.com authenticated (Success)'])"
      ]
     },
     "execution_count": 20,
     "metadata": {},
     "output_type": "execute_result"
    }
   ],
   "source": [
    "m.login(email,pword)"
   ]
  },
  {
   "cell_type": "code",
   "execution_count": 21,
   "metadata": {},
   "outputs": [
    {
     "data": {
      "text/plain": [
       "('OK',\n",
       " [b'(\\\\HasNoChildren) \"/\" \"INBOX\"',\n",
       "  b'(\\\\HasNoChildren) \"/\" \"Personal\"',\n",
       "  b'(\\\\HasNoChildren) \"/\" \"Receipts\"',\n",
       "  b'(\\\\HasNoChildren) \"/\" \"Travel\"',\n",
       "  b'(\\\\HasNoChildren) \"/\" \"Work\"',\n",
       "  b'(\\\\HasChildren \\\\Noselect) \"/\" \"[Gmail]\"',\n",
       "  b'(\\\\All \\\\HasNoChildren) \"/\" \"[Gmail]/All Mail\"',\n",
       "  b'(\\\\HasNoChildren \\\\Trash) \"/\" \"[Gmail]/Bin\"',\n",
       "  b'(\\\\Drafts \\\\HasNoChildren) \"/\" \"[Gmail]/Drafts\"',\n",
       "  b'(\\\\HasNoChildren \\\\Important) \"/\" \"[Gmail]/Important\"',\n",
       "  b'(\\\\HasNoChildren \\\\Sent) \"/\" \"[Gmail]/Sent Mail\"',\n",
       "  b'(\\\\HasNoChildren \\\\Junk) \"/\" \"[Gmail]/Spam\"',\n",
       "  b'(\\\\Flagged \\\\HasNoChildren) \"/\" \"[Gmail]/Starred\"'])"
      ]
     },
     "execution_count": 21,
     "metadata": {},
     "output_type": "execute_result"
    }
   ],
   "source": [
    "m.list()"
   ]
  },
  {
   "cell_type": "code",
   "execution_count": 23,
   "metadata": {},
   "outputs": [
    {
     "data": {
      "text/plain": [
       "('OK', [b'31762'])"
      ]
     },
     "execution_count": 23,
     "metadata": {},
     "output_type": "execute_result"
    }
   ],
   "source": [
    "m.select(\"inbox\")"
   ]
  },
  {
   "cell_type": "code",
   "execution_count": 43,
   "metadata": {},
   "outputs": [],
   "source": [
    "typ ,data = m.search(None,\"FROM info@thegoldbugs.com\")"
   ]
  },
  {
   "cell_type": "code",
   "execution_count": 44,
   "metadata": {},
   "outputs": [
    {
     "data": {
      "text/plain": [
       "[b'31760']"
      ]
     },
     "execution_count": 44,
     "metadata": {},
     "output_type": "execute_result"
    }
   ],
   "source": [
    "data"
   ]
  },
  {
   "cell_type": "code",
   "execution_count": 45,
   "metadata": {},
   "outputs": [],
   "source": [
    "result ,email_data = m.fetch(data[0],\"(RFC822)\")"
   ]
  },
  {
   "cell_type": "code",
   "execution_count": 49,
   "metadata": {},
   "outputs": [],
   "source": [
    "raw_email =email_data[0][1]"
   ]
  },
  {
   "cell_type": "code",
   "execution_count": 50,
   "metadata": {},
   "outputs": [],
   "source": [
    "raw_email_string = raw_email.decode('utf-8')"
   ]
  },
  {
   "cell_type": "code",
   "execution_count": 52,
   "metadata": {},
   "outputs": [],
   "source": [
    "import email"
   ]
  },
  {
   "cell_type": "code",
   "execution_count": 53,
   "metadata": {},
   "outputs": [],
   "source": [
    "email_message = email.message_from_string(raw_email_string)"
   ]
  },
  {
   "cell_type": "code",
   "execution_count": 57,
   "metadata": {},
   "outputs": [
    {
     "name": "stdout",
     "output_type": "stream",
     "text": [
      "b'<div dir=\"ltr\">If you are reading this message, you were able to find the email from the PDF using the CSV file.<div><br></div><div>Here is what you will need for the next phase:</div><div><br></div><div><span style=\"font-size:12.8px\"><a href=\"https://drive.google.com/file/d/15YyLqIuGlsCLr4ioKUeHRw8H2QjBNOz2/view?usp=sharing\" target=\"_blank\">https://drive.google.com/file/d/15YyLqIuGlsCLr4ioKUeHRw8H2QjBNOz2/view?usp=sharing</a></span><br></div><div><span style=\"font-size:12.8px\"><br></span></div><div><span style=\"font-size:12.8px\"><a href=\"https://drive.google.com/file/d/128MRLNuytoW7dVm6B7AF_cDVMeACyTFk/view?usp=sharing\" target=\"_blank\">https://drive.google.com/file/d/128MRLNuytoW7dVm6B7AF_cDVMeACyTFk/view?usp=sharing</a></span><br></div><div><br></div><div><br></div></div>\\r\\n'\n"
     ]
    }
   ],
   "source": [
    "for part in email_message.walk():\n",
    "    if part.get_content_type()==\"text/html\":\n",
    "        body = part.get_payload(decode=True)\n",
    "        print(body)"
   ]
  },
  {
   "cell_type": "markdown",
   "metadata": {},
   "source": [
    "<div><br></div><div>Here is what you will need for the next phase:</div><div><br></div><div><span style=\"font-size:12.8px\"><a href=\"https://drive.google.com/file/d/15YyLqIuGlsCLr4ioKUeHRw8H2QjBNOz2/view?usp=sharing\" target=\"_blank\">https://drive.google.com/file/d/15YyLqIuGlsCLr4ioKUeHRw8H2QjBNOz2/view?usp=sharing</a></span><br></div><div><span style=\"font-size:12.8px\"><br></span></div><div><span style=\"font-size:12.8px\"><a href=\"https://drive.google.com/file/d/128MRLNuytoW7dVm6B7AF_cDVMeACyTFk/view?usp=sharing\" target=\"_blank\">https://drive.google.com/file/d/128MRLNuytoW7dVm6B7AF_cDVMeACyTFk/view?usp=sharing</a></span><br></div><div><br></div><div><br></div></div>"
   ]
  },
  {
   "cell_type": "code",
   "execution_count": 58,
   "metadata": {},
   "outputs": [
    {
     "name": "stdout",
     "output_type": "stream",
     "text": [
      "Requirement already satisfied: pillow in c:\\users\\vishu\\anaconda3\\lib\\site-packages (5.4.1)\n"
     ]
    }
   ],
   "source": [
    "!pip install pillow"
   ]
  },
  {
   "cell_type": "code",
   "execution_count": null,
   "metadata": {},
   "outputs": [],
   "source": []
  }
 ],
 "metadata": {
  "kernelspec": {
   "display_name": "Python 3",
   "language": "python",
   "name": "python3"
  },
  "language_info": {
   "codemirror_mode": {
    "name": "ipython",
    "version": 3
   },
   "file_extension": ".py",
   "mimetype": "text/x-python",
   "name": "python",
   "nbconvert_exporter": "python",
   "pygments_lexer": "ipython3",
   "version": "3.7.3"
  }
 },
 "nbformat": 4,
 "nbformat_minor": 1
}
