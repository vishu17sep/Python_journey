{
 "cells": [
  {
   "cell_type": "markdown",
   "metadata": {
    "collapsed": true
   },
   "source": [
    "# Violet Mission Overview\n",
    "\n",
    "Excellent work so far Agent, we're almost there! It looks like decrypting the previous message gave us this link:\n",
    "\n",
    "https://docs.google.com/document/d/1ksatYxKicml8lthbNo52LHwBET_ywt4TDSjHbKwwXHk/edit\n",
    "\n",
    "Apparently its leading to a text file, can you figure how to decrypt this last link?"
   ]
  },
  {
   "cell_type": "code",
   "execution_count": 1,
   "metadata": {},
   "outputs": [
    {
     "name": "stdout",
     "output_type": "stream",
     "text": [
      "Requirement already satisfied: bokeh in c:\\users\\vishu\\anaconda3\\lib\\site-packages (1.0.4)\n",
      "Requirement already satisfied: numpy>=1.7.1 in c:\\users\\vishu\\anaconda3\\lib\\site-packages (from bokeh) (1.16.2)\n",
      "Requirement already satisfied: Jinja2>=2.7 in c:\\users\\vishu\\anaconda3\\lib\\site-packages (from bokeh) (2.10)\n",
      "Requirement already satisfied: pillow>=4.0 in c:\\users\\vishu\\anaconda3\\lib\\site-packages (from bokeh) (5.4.1)\n",
      "Requirement already satisfied: tornado>=4.3 in c:\\users\\vishu\\anaconda3\\lib\\site-packages (from bokeh) (6.0.2)\n",
      "Requirement already satisfied: six>=1.5.2 in c:\\users\\vishu\\anaconda3\\lib\\site-packages (from bokeh) (1.12.0)\n",
      "Requirement already satisfied: PyYAML>=3.10 in c:\\users\\vishu\\anaconda3\\lib\\site-packages (from bokeh) (5.1)\n",
      "Requirement already satisfied: python-dateutil>=2.1 in c:\\users\\vishu\\anaconda3\\lib\\site-packages (from bokeh) (2.8.0)\n",
      "Requirement already satisfied: packaging>=16.8 in c:\\users\\vishu\\anaconda3\\lib\\site-packages (from bokeh) (19.0)\n",
      "Requirement already satisfied: MarkupSafe>=0.23 in c:\\users\\vishu\\anaconda3\\lib\\site-packages (from Jinja2>=2.7->bokeh) (1.1.1)\n",
      "Requirement already satisfied: pyparsing>=2.0.2 in c:\\users\\vishu\\anaconda3\\lib\\site-packages (from packaging>=16.8->bokeh) (2.3.1)\n"
     ]
    }
   ],
   "source": [
    "!pip install bokeh"
   ]
  },
  {
   "cell_type": "code",
   "execution_count": 2,
   "metadata": {},
   "outputs": [],
   "source": [
    "trial = \"new google.maps.LatLng(41.80562,-112.15196), new google.maps.LatLng(41.7621,-119.6182), new google.maps.LatLng(40.46996,-119.49899), new\""
   ]
  },
  {
   "cell_type": "code",
   "execution_count": 3,
   "metadata": {},
   "outputs": [],
   "source": [
    "import re\n",
    "results = re.findall(r'\\([\\d.]*,-[\\d.]*\\)',trial)"
   ]
  },
  {
   "cell_type": "code",
   "execution_count": 4,
   "metadata": {},
   "outputs": [
    {
     "data": {
      "text/plain": [
       "['(41.80562,-112.15196)', '(41.7621,-119.6182)', '(40.46996,-119.49899)']"
      ]
     },
     "execution_count": 4,
     "metadata": {},
     "output_type": "execute_result"
    }
   ],
   "source": [
    "results"
   ]
  },
  {
   "cell_type": "code",
   "execution_count": 5,
   "metadata": {},
   "outputs": [],
   "source": [
    "lats =[]\n",
    "longs =[]\n",
    "f = open('message_new_pen.txt','r')\n",
    "text = f.read()\n",
    "#for match in re.finditer(r'\\(([\\d.]*),(-[\\d.]*)\\)',trial):\n",
    "#    lats.append(float(match.group()))\n",
    "for x,y in re.findall(r'\\(([\\d.]*),(-[\\d.]*)\\)',text):\n",
    "    lats.append(float(x))\n",
    "    longs.append(float(y))\n",
    "f.close()"
   ]
  },
  {
   "cell_type": "code",
   "execution_count": 6,
   "metadata": {},
   "outputs": [],
   "source": [
    "from bokeh.io import output_file, show\n",
    "from bokeh.models import GMapPlot, GMapOptions, ColumnDataSource, Circle, Range1d, PanTool, WheelZoomTool, BoxSelectTool"
   ]
  },
  {
   "cell_type": "code",
   "execution_count": 7,
   "metadata": {},
   "outputs": [],
   "source": [
    "map_options = GMapOptions(lat=0, lng=0, zoom=3)\n",
    "plot = GMapPlot( x_range= Range1d(), y_range= Range1d(), map_options=map_options)\n",
    "plot.title.text = \"Search plot\"\n",
    "plot.api_key = \"your API key\""
   ]
  },
  {
   "cell_type": "code",
   "execution_count": 8,
   "metadata": {},
   "outputs": [],
   "source": [
    "source = ColumnDataSource(\n",
    "    data=dict(\n",
    "        lat=lats,\n",
    "        lon=longs,\n",
    "    )\n",
    ")\n",
    "circle = Circle(x=\"lon\", y=\"lat\", size=15, fill_color=\"red\", fill_alpha=0.6, line_color=None)\n",
    "plot.add_glyph(source, circle)\n",
    "plot.add_tools(PanTool(), WheelZoomTool(), BoxSelectTool())\n",
    "output_file(\"gmap_plot.html\")\n",
    "show(plot)\n",
    "from bokeh.resources import CDN\n",
    "from bokeh.embed import file_html\n",
    "\n",
    "\n",
    "html = file_html(plot, CDN, \"Final Plot File\")"
   ]
  },
  {
   "cell_type": "code",
   "execution_count": null,
   "metadata": {},
   "outputs": [],
   "source": []
  }
 ],
 "metadata": {
  "kernelspec": {
   "display_name": "Python 3",
   "language": "python",
   "name": "python3"
  },
  "language_info": {
   "codemirror_mode": {
    "name": "ipython",
    "version": 3
   },
   "file_extension": ".py",
   "mimetype": "text/x-python",
   "name": "python",
   "nbconvert_exporter": "python",
   "pygments_lexer": "ipython3",
   "version": "3.7.3"
  }
 },
 "nbformat": 4,
 "nbformat_minor": 2
}
