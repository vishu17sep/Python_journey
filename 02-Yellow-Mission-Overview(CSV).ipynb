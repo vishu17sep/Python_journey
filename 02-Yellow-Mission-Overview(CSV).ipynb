{
 "cells": [
  {
   "cell_type": "markdown",
   "metadata": {},
   "source": [
    "# Yellow Mission Overview"
   ]
  },
  {
   "cell_type": "markdown",
   "metadata": {},
   "source": [
    "It looks like there is information hidden within the CSV file.\n",
    "\n",
    "Extract this information and see where it leads. We're getting closer to cracking down on these rogues.\n",
    "\n",
    "Best of luck Agent!"
   ]
  },
  {
   "cell_type": "code",
   "execution_count": 4,
   "metadata": {},
   "outputs": [],
   "source": [
    "import csv"
   ]
  },
  {
   "cell_type": "code",
   "execution_count": 5,
   "metadata": {},
   "outputs": [],
   "source": [
    "f = open('Yellow-Mission-Files/download_link.csv')\n",
    "data = csv.reader(f)"
   ]
  },
  {
   "cell_type": "code",
   "execution_count": 6,
   "metadata": {},
   "outputs": [
    {
     "name": "stdout",
     "output_type": "stream",
     "text": [
      "https://drive.google.com/file/d/14oSxiKv35enpyyr81dDqEhkwnUONghPQ/\n"
     ]
    }
   ],
   "source": [
    "datalines=list(data)\n",
    "s=\"\"\n",
    "for l in datalines:\n",
    "    s = s + l[2]\n",
    "print(s)"
   ]
  },
  {
   "cell_type": "code",
   "execution_count": 7,
   "metadata": {},
   "outputs": [],
   "source": [
    "import PyPDF2"
   ]
  },
  {
   "cell_type": "code",
   "execution_count": 8,
   "metadata": {},
   "outputs": [],
   "source": [
    "f = open('Yellow-Mission-Files/Contact_Email_Information.pdf',\"rb\")"
   ]
  },
  {
   "cell_type": "code",
   "execution_count": 9,
   "metadata": {},
   "outputs": [],
   "source": [
    "preader = PyPDF2.PdfFileReader(f)"
   ]
  },
  {
   "cell_type": "code",
   "execution_count": 10,
   "metadata": {},
   "outputs": [],
   "source": [
    "import re\n",
    "pattern = r'[\\w_.-]+@[\\w_.-]+'"
   ]
  },
  {
   "cell_type": "code",
   "execution_count": 12,
   "metadata": {},
   "outputs": [],
   "source": [
    "r=[]\n",
    "for i in range(preader.numPages):\n",
    "    page = preader.getPage(i)\n",
    "    pagetext = page.extractText()\n",
    "    r.append(re.search(pattern,pagetext))"
   ]
  },
  {
   "cell_type": "code",
   "execution_count": 13,
   "metadata": {},
   "outputs": [
    {
     "name": "stdout",
     "output_type": "stream",
     "text": [
      "[None, None, None, None, None, None, None, <re.Match object; span=(414, 423), match='trillio@n'>, None, None, None, <re.Match object; span=(858, 869), match='sy@ntheses.'>, <re.Match object; span=(110, 115), match='t@ake'>, <re.Match object; span=(3388, 3396), match='a@lchemy'>, None, <re.Match object; span=(1879, 1893), match='c@onsciousness'>, None, None, <re.Match object; span=(1331, 1341), match='telesc@ope'>, None, <re.Match object; span=(1226, 1230), match='t@he'>, None, None, None, None, None, None, None, None, None, None, None, None, None, None, None, None, None, None, None, None, None, None, None, None, None, None, None, None, None, None, None, None, None, None, None, None, None, None, <re.Match object; span=(1285, 1305), match='info@thegoldbugs.com'>, None]\n"
     ]
    }
   ],
   "source": [
    "print(r)"
   ]
  },
  {
   "cell_type": "code",
   "execution_count": 17,
   "metadata": {},
   "outputs": [
    {
     "name": "stdout",
     "output_type": "stream",
     "text": [
      "trillio@n\n",
      "sy@ntheses.\n",
      "t@ake\n",
      "a@lchemy\n",
      "c@onsciousness\n",
      "telesc@ope\n",
      "t@he\n",
      "info@thegoldbugs.com\n"
     ]
    }
   ],
   "source": [
    "for i in r:\n",
    "    if i != None:\n",
    "        print(i.group())\n",
    "    "
   ]
  },
  {
   "cell_type": "code",
   "execution_count": null,
   "metadata": {},
   "outputs": [],
   "source": []
  }
 ],
 "metadata": {
  "anaconda-cloud": {},
  "kernelspec": {
   "display_name": "Python 3",
   "language": "python",
   "name": "python3"
  },
  "language_info": {
   "codemirror_mode": {
    "name": "ipython",
    "version": 3
   },
   "file_extension": ".py",
   "mimetype": "text/x-python",
   "name": "python",
   "nbconvert_exporter": "python",
   "pygments_lexer": "ipython3",
   "version": "3.7.3"
  }
 },
 "nbformat": 4,
 "nbformat_minor": 2
}
